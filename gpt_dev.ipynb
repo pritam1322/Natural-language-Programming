{
  "nbformat": 4,
  "nbformat_minor": 0,
  "metadata": {
    "colab": {
      "provenance": []
    },
    "kernelspec": {
      "name": "python3",
      "display_name": "Python 3"
    },
    "language_info": {
      "name": "python"
    }
  },
  "cells": [
    {
      "cell_type": "code",
      "source": [
        "# We always start with a dataset to train on. Let's download the tiny shakespeare dataset\n",
        "!wget https://raw.githubusercontent.com/karpathy/char-rnn/master/data/tinyshakespeare/input.txt"
      ],
      "metadata": {
        "colab": {
          "base_uri": "https://localhost:8080/"
        },
        "id": "3J7cT1sBA02A",
        "outputId": "484ecedd-6ee1-4841-e02f-5ca550d87c02"
      },
      "execution_count": null,
      "outputs": [
        {
          "output_type": "stream",
          "name": "stdout",
          "text": [
            "--2025-06-19 07:07:21--  https://raw.githubusercontent.com/karpathy/char-rnn/master/data/tinyshakespeare/input.txt\n",
            "Resolving raw.githubusercontent.com (raw.githubusercontent.com)... 185.199.111.133, 185.199.108.133, 185.199.109.133, ...\n",
            "Connecting to raw.githubusercontent.com (raw.githubusercontent.com)|185.199.111.133|:443... connected.\n",
            "HTTP request sent, awaiting response... 200 OK\n",
            "Length: 1115394 (1.1M) [text/plain]\n",
            "Saving to: ‘input.txt’\n",
            "\n",
            "input.txt           100%[===================>]   1.06M  --.-KB/s    in 0.06s   \n",
            "\n",
            "2025-06-19 07:07:21 (17.3 MB/s) - ‘input.txt’ saved [1115394/1115394]\n",
            "\n"
          ]
        }
      ]
    },
    {
      "cell_type": "code",
      "execution_count": null,
      "metadata": {
        "id": "mm7gFntyAkkS"
      },
      "outputs": [],
      "source": [
        "import torch\n",
        "import torch.nn as nn\n",
        "import torch.nn.functional as F\n",
        "\n"
      ]
    },
    {
      "cell_type": "code",
      "source": [
        "with open('input.txt', 'r', encoding='utf-8') as f:\n",
        "    text = f.read()"
      ],
      "metadata": {
        "id": "fno2liA0A4O8"
      },
      "execution_count": null,
      "outputs": []
    },
    {
      "cell_type": "code",
      "source": [
        "chars = sorted(list(set(text)))\n",
        "vocab_size = len(chars)\n",
        "print(vocab_size, 'characters:', ''.join(chars))"
      ],
      "metadata": {
        "colab": {
          "base_uri": "https://localhost:8080/"
        },
        "id": "Of8x2BP4BAMh",
        "outputId": "e086127e-48ce-452f-9d3f-df6d8f628891"
      },
      "execution_count": null,
      "outputs": [
        {
          "output_type": "stream",
          "name": "stdout",
          "text": [
            "65 characters: \n",
            " !$&',-.3:;?ABCDEFGHIJKLMNOPQRSTUVWXYZabcdefghijklmnopqrstuvwxyz\n"
          ]
        }
      ]
    },
    {
      "cell_type": "code",
      "source": [
        "stoi = {ch:i for i, ch in enumerate(chars)}\n",
        "itos = {i:ch for i, ch in enumerate(chars)}\n",
        "encode = lambda s: [stoi[c] for c in s]\n",
        "decode = lambda l: ''.join([itos[i] for i in l])"
      ],
      "metadata": {
        "id": "oBKnpMcwBFkn"
      },
      "execution_count": null,
      "outputs": []
    },
    {
      "cell_type": "code",
      "source": [
        "# Train and test splits\n",
        "data = torch.tensor(encode(text), dtype=torch.long)\n",
        "n = int(0.9*len(data)) # first 90% will be train, rest val\n",
        "train_data = data[:n]\n",
        "val_data = data[n:]\n"
      ],
      "metadata": {
        "id": "Bj0OQjBvBctR"
      },
      "execution_count": null,
      "outputs": []
    },
    {
      "cell_type": "code",
      "source": [
        "block_size = 16\n",
        "batch_size = 32\n",
        "max_iters = 15000\n",
        "eval_interval = 100\n",
        "learning_rate = 1e-3\n",
        "device = 'cuda' if torch.cuda.is_available() else 'cpu'\n",
        "eval_iters = 300\n",
        "n_embd = 128\n",
        "n_head = 4\n",
        "n_layer = 4\n",
        "dropout = 0.0"
      ],
      "metadata": {
        "id": "BqmYGcNnCNj5"
      },
      "execution_count": null,
      "outputs": []
    },
    {
      "cell_type": "code",
      "source": [
        "#prepare split dataset\n",
        "def get_batch(split):\n",
        "    data = train_data if split == 'train' else val_data\n",
        "    ix = torch.randint(len(data)- block_size, (batch_size,))\n",
        "    x = torch.stack([data[i:i+block_size] for i in ix])\n",
        "    y = torch.stack([data[i+1:i+block_size+1] for i in ix])\n",
        "    return x, y"
      ],
      "metadata": {
        "id": "ChvoaHqhBhTV"
      },
      "execution_count": null,
      "outputs": []
    },
    {
      "cell_type": "code",
      "source": [
        "#model\n",
        "class Head(nn.Module):\n",
        "  def __init__(self, head_size) -> None:\n",
        "     super().__init__()\n",
        "     self.query = nn.Linear(n_embd, head_size, bias=False)\n",
        "     self.key = nn.Linear(n_embd, head_size, bias=False)\n",
        "     self.value = nn.Linear(n_embd, head_size, bias=False)\n",
        "     self.register_buffer('tril', torch.tril(torch.ones(block_size, block_size)))\n",
        "     self.dropout = nn.Dropout(0.2)\n",
        "\n",
        "  def forward(self, x):\n",
        "    B, T, C = x.shape\n",
        "    q = self.query(x)\n",
        "    k = self.key(x)\n",
        "    wei = q @ k.transpose(-2,-1) / C**0.5 # (B,T,C) @ (B,C,T) --> (B,T,T)\n",
        "    wei = wei.masked_fill(self.tril[:T, :T] == 0, float('-inf'))\n",
        "    wei = F.softmax(wei, dim=-1)\n",
        "    wei = self.dropout(wei)\n",
        "    v = self.value(x)\n",
        "    out = wei @ v  # (B,T,T) @ (B,T,C) -> (B,T,C)\n",
        "    return out\n",
        "\n",
        "class MultiHeadAttention(nn.Module):\n",
        "  def __init__(self, n_head, head_size) -> None:\n",
        "    super().__init__()\n",
        "    self.heads = nn.ModuleList([Head(head_size) for _ in range(n_head)])\n",
        "    self.proj = nn.Linear(n_embd, n_embd)\n",
        "    self.dropout = nn.Dropout(0.2)\n",
        "\n",
        "  def forward(self, x):\n",
        "    out = torch.cat([h(x) for h in self.heads], dim=-1)\n",
        "    out = self.proj(out)\n",
        "    out = self.dropout(out)\n",
        "    return out\n",
        "\n",
        "class FeedForward(nn.Module):\n",
        "  def __init__(self, n_embd) -> None:\n",
        "     super().__init__()\n",
        "     self.layer = nn.Sequential(\n",
        "         nn.Linear(n_embd, 4*n_embd),\n",
        "         nn.ReLU(),\n",
        "         nn.Linear(4*n_embd, n_embd),\n",
        "         nn.Dropout(0.2)\n",
        "     )\n",
        "\n",
        "  def forward(self, x):\n",
        "     return self.layer(x)\n",
        "\n",
        "class Transformer(nn.Module):\n",
        "  def __init__(self, n_embd, n_head) -> None:\n",
        "     super().__init__()\n",
        "     head_size = n_embd // n_head\n",
        "     self.heads = MultiHeadAttention(n_head, head_size)\n",
        "     self.feed_forward = FeedForward(n_embd)\n",
        "     self.layer1 = nn.LayerNorm(n_embd)\n",
        "     self.layer2 = nn.LayerNorm(n_embd)\n",
        "\n",
        "  def forward(self, x):\n",
        "    x = x + self.heads(self.layer1(x))\n",
        "    x = x + self.feed_forward(self.layer2(x))\n",
        "    return x\n",
        "\n",
        "class BigramModelLangugage(nn.Module):\n",
        "  def __init__(self) -> None:\n",
        "    super().__init__()\n",
        "    self.token_embedding_table = nn.Embedding(vocab_size, n_embd)\n",
        "    self.position_embedding_table = nn.Embedding(block_size, n_embd)\n",
        "    self.transformer = Transformer(n_embd, n_head)\n",
        "    self.la = nn.LayerNorm(n_embd)\n",
        "    self.lm_head = nn.Linear(n_embd, vocab_size)\n",
        "\n",
        "  def forward(self, idx, targets=None):\n",
        "    B, T = idx.shape\n",
        "    tok_emb = self.token_embedding_table(idx) # (B, T, C)\n",
        "    tok_pos = self.position_embedding_table(torch.arange(T, device=device)) # (T, C)\n",
        "    x = tok_emb + tok_pos\n",
        "    x = self.transformer(x)\n",
        "    x = self.la(x)\n",
        "    logits = self.lm_head(x) # (B, T, vocab_size)\n",
        "\n",
        "    if targets == None:\n",
        "      loss = None\n",
        "    else:\n",
        "      B, T, C = logits.shape\n",
        "      logits = logits.view(B*T, C)\n",
        "      targets = targets.view(B*T)\n",
        "      loss = F.cross_entropy(logits, targets)\n",
        "\n",
        "    return logits, loss\n",
        "\n",
        "  def generate(self, idx, max_new_tokens):\n",
        "    for _ in range(max_new_tokens):\n",
        "      idx_cond = idx[:, -block_size:]\n",
        "      logits, loss = self(idx_cond)\n",
        "      logits = logits[:, -1, :]\n",
        "      probs = F.softmax(logits, dim=-1)\n",
        "      idx_next = torch.multinomial(probs, num_samples=1)\n",
        "      idx = torch.cat((idx, idx_next), dim=1)\n",
        "    return idx\n",
        "model = BigramModelLangugage()\n",
        "m = model.to(device)\n",
        "print(sum(p.numel() for p in m.parameters())/1e6, 'M parameters')"
      ],
      "metadata": {
        "colab": {
          "base_uri": "https://localhost:8080/"
        },
        "id": "yi_rzoMDCmWy",
        "outputId": "f91388aa-f8a0-4f50-8c7c-dbfbe219af92"
      },
      "execution_count": null,
      "outputs": [
        {
          "output_type": "stream",
          "name": "stdout",
          "text": [
            "0.216897 M parameters\n"
          ]
        }
      ]
    },
    {
      "cell_type": "code",
      "source": [
        "@torch.no_grad()\n",
        "def estimate_loss():\n",
        "    out = {}\n",
        "    model.eval()\n",
        "    for split in ['train', 'val']:\n",
        "        losses = torch.zeros(eval_iters)\n",
        "        for k in range(eval_iters):\n",
        "            X, Y = get_batch(split)\n",
        "            logits, loss = model(X, Y)\n",
        "            losses[k] = loss.item()\n",
        "        out[split] = losses.mean()\n",
        "    model.train()\n",
        "    return out"
      ],
      "metadata": {
        "id": "L5GXq1_6Lh-B"
      },
      "execution_count": null,
      "outputs": []
    },
    {
      "cell_type": "code",
      "source": [
        "max_iters = 50000"
      ],
      "metadata": {
        "id": "fMJOSUgZT11G"
      },
      "execution_count": null,
      "outputs": []
    },
    {
      "cell_type": "code",
      "source": [
        "# create a PyTorch optimizer\n",
        "optimizer = torch.optim.AdamW(model.parameters(), lr=learning_rate)\n",
        "\n",
        "for iter in range(max_iters):\n",
        "\n",
        "    # every once in a while evaluate the loss on train and val sets\n",
        "    if iter % eval_interval == 0 or iter == max_iters - 1:\n",
        "        losses = estimate_loss()\n",
        "        print(f\"step {iter}: train loss {losses['train']:.4f}, val loss {losses['val']:.4f}\")\n",
        "\n",
        "    # sample a batch of data\n",
        "    xb, yb = get_batch('train')\n",
        "\n",
        "    # evaluate the loss\n",
        "    logits, loss = model(xb, yb)\n",
        "    optimizer.zero_grad(set_to_none=True)\n",
        "    loss.backward()\n",
        "    optimizer.step()\n",
        "\n",
        "# generate from the model\n",
        "context = torch.zeros((1, 1), dtype=torch.long, device=device)\n",
        "print(decode(m.generate(context, max_new_tokens=2000)[0].tolist()))\n"
      ],
      "metadata": {
        "colab": {
          "base_uri": "https://localhost:8080/"
        },
        "id": "d7IhiYBPJHEu",
        "outputId": "fd249b32-e58c-45a7-e900-72f8e0197381"
      },
      "execution_count": null,
      "outputs": [
        {
          "output_type": "stream",
          "name": "stdout",
          "text": [
            "step 0: train loss 4.2923, val loss 4.2884\n",
            "step 100: train loss 2.5280, val loss 2.5418\n",
            "step 200: train loss 2.3675, val loss 2.3707\n",
            "step 300: train loss 2.2782, val loss 2.3029\n",
            "step 400: train loss 2.2227, val loss 2.2391\n",
            "step 500: train loss 2.1765, val loss 2.2018\n",
            "step 600: train loss 2.1524, val loss 2.1794\n",
            "step 700: train loss 2.1155, val loss 2.1473\n",
            "step 800: train loss 2.0903, val loss 2.1395\n",
            "step 900: train loss 2.0720, val loss 2.1263\n",
            "step 1000: train loss 2.0536, val loss 2.0991\n",
            "step 1100: train loss 2.0289, val loss 2.0885\n",
            "step 1200: train loss 2.0264, val loss 2.0813\n",
            "step 1300: train loss 2.0103, val loss 2.0771\n",
            "step 1400: train loss 2.0007, val loss 2.0833\n",
            "step 1500: train loss 1.9779, val loss 2.0650\n",
            "step 1600: train loss 1.9777, val loss 2.0572\n",
            "step 1700: train loss 1.9579, val loss 2.0428\n",
            "step 1800: train loss 1.9457, val loss 2.0378\n",
            "step 1900: train loss 1.9418, val loss 2.0466\n",
            "step 2000: train loss 1.9482, val loss 2.0462\n",
            "step 2100: train loss 1.9353, val loss 2.0312\n",
            "step 2200: train loss 1.9285, val loss 2.0271\n",
            "step 2300: train loss 1.9140, val loss 2.0193\n",
            "step 2400: train loss 1.9103, val loss 2.0083\n",
            "step 2500: train loss 1.8973, val loss 2.0074\n",
            "step 2600: train loss 1.9095, val loss 2.0035\n",
            "step 2700: train loss 1.8872, val loss 1.9881\n",
            "step 2800: train loss 1.8798, val loss 1.9992\n",
            "step 2900: train loss 1.8837, val loss 1.9884\n",
            "step 3000: train loss 1.8742, val loss 1.9915\n",
            "step 3100: train loss 1.8708, val loss 1.9776\n",
            "step 3200: train loss 1.8643, val loss 1.9845\n",
            "step 3300: train loss 1.8585, val loss 1.9736\n",
            "step 3400: train loss 1.8637, val loss 1.9796\n",
            "step 3500: train loss 1.8534, val loss 1.9728\n",
            "step 3600: train loss 1.8469, val loss 1.9775\n",
            "step 3700: train loss 1.8520, val loss 1.9812\n",
            "step 3800: train loss 1.8463, val loss 1.9753\n",
            "step 3900: train loss 1.8365, val loss 1.9690\n",
            "step 4000: train loss 1.8322, val loss 1.9635\n",
            "step 4100: train loss 1.8379, val loss 1.9596\n",
            "step 4200: train loss 1.8241, val loss 1.9648\n",
            "step 4300: train loss 1.8338, val loss 1.9667\n",
            "step 4400: train loss 1.8230, val loss 1.9658\n",
            "step 4500: train loss 1.8209, val loss 1.9578\n",
            "step 4600: train loss 1.8167, val loss 1.9576\n",
            "step 4700: train loss 1.8105, val loss 1.9485\n",
            "step 4800: train loss 1.8126, val loss 1.9555\n",
            "step 4900: train loss 1.8112, val loss 1.9528\n",
            "step 5000: train loss 1.8088, val loss 1.9501\n",
            "step 5100: train loss 1.8046, val loss 1.9556\n",
            "step 5200: train loss 1.8065, val loss 1.9393\n",
            "step 5300: train loss 1.8068, val loss 1.9508\n",
            "step 5400: train loss 1.8088, val loss 1.9514\n",
            "step 5500: train loss 1.8023, val loss 1.9459\n",
            "step 5600: train loss 1.7994, val loss 1.9358\n",
            "step 5700: train loss 1.7985, val loss 1.9402\n",
            "step 5800: train loss 1.7891, val loss 1.9385\n",
            "step 5900: train loss 1.7909, val loss 1.9445\n",
            "step 6000: train loss 1.7824, val loss 1.9447\n",
            "step 6100: train loss 1.7920, val loss 1.9616\n",
            "step 6200: train loss 1.7822, val loss 1.9405\n",
            "step 6300: train loss 1.7898, val loss 1.9420\n",
            "step 6400: train loss 1.7875, val loss 1.9465\n",
            "step 6500: train loss 1.7855, val loss 1.9460\n",
            "step 6600: train loss 1.7837, val loss 1.9367\n",
            "step 6700: train loss 1.7785, val loss 1.9387\n",
            "step 6800: train loss 1.7782, val loss 1.9535\n",
            "step 6900: train loss 1.7668, val loss 1.9348\n",
            "step 7000: train loss 1.7820, val loss 1.9378\n",
            "step 7100: train loss 1.7738, val loss 1.9272\n",
            "step 7200: train loss 1.7670, val loss 1.9163\n",
            "step 7300: train loss 1.7673, val loss 1.9195\n",
            "step 7400: train loss 1.7668, val loss 1.9223\n",
            "step 7500: train loss 1.7620, val loss 1.9376\n",
            "step 7600: train loss 1.7652, val loss 1.9093\n",
            "step 7700: train loss 1.7711, val loss 1.9231\n",
            "step 7800: train loss 1.7654, val loss 1.9312\n",
            "step 7900: train loss 1.7701, val loss 1.9243\n",
            "step 8000: train loss 1.7570, val loss 1.9160\n",
            "step 8100: train loss 1.7648, val loss 1.9278\n",
            "step 8200: train loss 1.7627, val loss 1.9255\n",
            "step 8300: train loss 1.7508, val loss 1.9098\n",
            "step 8400: train loss 1.7612, val loss 1.9351\n",
            "step 8500: train loss 1.7476, val loss 1.9097\n",
            "step 8600: train loss 1.7589, val loss 1.9277\n",
            "step 8700: train loss 1.7569, val loss 1.9266\n",
            "step 8800: train loss 1.7540, val loss 1.9215\n",
            "step 8900: train loss 1.7561, val loss 1.9185\n",
            "step 9000: train loss 1.7448, val loss 1.9142\n",
            "step 9100: train loss 1.7544, val loss 1.9121\n",
            "step 9200: train loss 1.7521, val loss 1.9075\n",
            "step 9300: train loss 1.7508, val loss 1.9152\n",
            "step 9400: train loss 1.7422, val loss 1.9119\n",
            "step 9500: train loss 1.7571, val loss 1.9066\n",
            "step 9600: train loss 1.7437, val loss 1.9023\n",
            "step 9700: train loss 1.7463, val loss 1.9169\n",
            "step 9800: train loss 1.7420, val loss 1.9167\n",
            "step 9900: train loss 1.7503, val loss 1.8889\n",
            "step 10000: train loss 1.7424, val loss 1.8869\n",
            "step 10100: train loss 1.7436, val loss 1.8954\n",
            "step 10200: train loss 1.7386, val loss 1.9082\n",
            "step 10300: train loss 1.7406, val loss 1.8996\n",
            "step 10400: train loss 1.7302, val loss 1.8999\n",
            "step 10500: train loss 1.7423, val loss 1.9025\n",
            "step 10600: train loss 1.7439, val loss 1.9001\n",
            "step 10700: train loss 1.7465, val loss 1.9092\n",
            "step 10800: train loss 1.7379, val loss 1.8915\n",
            "step 10900: train loss 1.7340, val loss 1.8911\n",
            "step 11000: train loss 1.7390, val loss 1.9010\n",
            "step 11100: train loss 1.7282, val loss 1.9117\n",
            "step 11200: train loss 1.7306, val loss 1.9003\n",
            "step 11300: train loss 1.7394, val loss 1.8947\n",
            "step 11400: train loss 1.7227, val loss 1.9061\n",
            "step 11500: train loss 1.7348, val loss 1.9128\n",
            "step 11600: train loss 1.7395, val loss 1.8981\n",
            "step 11700: train loss 1.7310, val loss 1.9028\n",
            "step 11800: train loss 1.7291, val loss 1.8906\n",
            "step 11900: train loss 1.7254, val loss 1.8951\n",
            "step 12000: train loss 1.7255, val loss 1.8897\n",
            "step 12100: train loss 1.7303, val loss 1.9028\n",
            "step 12200: train loss 1.7172, val loss 1.8933\n",
            "step 12300: train loss 1.7243, val loss 1.8884\n",
            "step 12400: train loss 1.7320, val loss 1.8906\n",
            "step 12500: train loss 1.7348, val loss 1.8828\n",
            "step 12600: train loss 1.7195, val loss 1.9013\n",
            "step 12700: train loss 1.7265, val loss 1.8911\n",
            "step 12800: train loss 1.7300, val loss 1.8942\n",
            "step 12900: train loss 1.7194, val loss 1.8932\n",
            "step 13000: train loss 1.7190, val loss 1.8924\n",
            "step 13100: train loss 1.7190, val loss 1.8840\n",
            "step 13200: train loss 1.7143, val loss 1.8927\n",
            "step 13300: train loss 1.7084, val loss 1.8911\n",
            "step 13400: train loss 1.7245, val loss 1.8849\n",
            "step 13500: train loss 1.7206, val loss 1.8884\n",
            "step 13600: train loss 1.7155, val loss 1.8863\n",
            "step 13700: train loss 1.7173, val loss 1.9016\n",
            "step 13800: train loss 1.7117, val loss 1.8840\n",
            "step 13900: train loss 1.7134, val loss 1.8909\n",
            "step 14000: train loss 1.7152, val loss 1.8904\n",
            "step 14100: train loss 1.7191, val loss 1.8903\n",
            "step 14200: train loss 1.7170, val loss 1.8891\n",
            "step 14300: train loss 1.7185, val loss 1.8939\n",
            "step 14400: train loss 1.7127, val loss 1.8848\n",
            "step 14500: train loss 1.7087, val loss 1.8898\n",
            "step 14600: train loss 1.7213, val loss 1.8844\n",
            "step 14700: train loss 1.7144, val loss 1.8911\n",
            "step 14800: train loss 1.7120, val loss 1.8867\n",
            "step 14900: train loss 1.7094, val loss 1.8948\n",
            "step 14999: train loss 1.7128, val loss 1.8957\n",
            "\n",
            "Leave is all-in pray chome etwon play and my get An cale;\n",
            "I strah\n",
            "wort le freat is dosset, baid the unto my we hou in thee arget hear\n",
            "As ne is his rues of viscipse,\n",
            "Reice, the nelige that wiward cut am in prold have pring;\n",
            "That night\n",
            "Yeach crent, marking chim mounly, sir, and theed! aving dater?\n",
            "Why parter withed sin but too cous say. Sweet, strife and yecoure dime: a\n",
            "Sfear  these clack lord,\n",
            "Be and you double,\n",
            "As are I wall.\n",
            "\n",
            "BRUTUS:\n",
            "You be frialm, thous suech eye,\n",
            "Tapke this come me ought in come o'ereichaster's abuded by for could richmore him strancell house entich had thou pander: iftom your o'er:\n",
            "Wor he costated babeng wans, good clote anculy hor d irath'st furst, sir ueged then the to this my lordere cefor hince.\n",
            "Where; the lace a\n",
            "chirlod fort a the comple you Clarren: peen\n",
            "To Romess the obittle,\n",
            "Beathem then fase more be of by yverceacies afferehurd:\n",
            "ThUart that, Nigatistre misessemperchaster,\n",
            "I my man!\n",
            "Whe jeleved imple trucy my Rom muchedderfundir,\n",
            "ereit, and a truen, work,\n",
            "To morry not amon th In lints' make of I have blessue;\n",
            "Belo she' her this blow scon we wurtly theralty.\n",
            "\n",
            "DUCHES:\n",
            "An hreant Affest trider chamble showle.\n",
            "Now, whou'll sle,\n",
            "Stays names our head be house knows the oftend.\n",
            "And sudese the\n",
            "frant.\n",
            "\n",
            "AUTUS:\n",
            "I' lad,\n",
            "Godlewith have our thinks,\n",
            "Ah, I\n",
            "'Whe weard fear king own his beard's notion, my he known,\n",
            "Son thee were of pound thruns ame to homeenest eress,\n",
            "The what I\n",
            "Gauntainkly, but is all t layer: letwe contes her hearted and me thin!\n",
            "\n",
            "KING Partalove now cint?\n",
            "\n",
            "Claudily Roterwiss muttle youty, thit but faons for?. His as it all and toker'd like\n",
            "The of her hece Of hurt we'er grawn smole your no with hissut say sord mutes:\n",
            "Such:\n",
            "If thou west custell, well\n",
            "And we hastay?\n",
            "\n",
            "Sent father we you;\n",
            "She gentle'st hon miger, tanio's with hanle a purge,\n",
            "But,\n",
            "Fhy eam, if all\n",
            "That's not as' as to you stood angrier?\n",
            "\n",
            "ROMEO:\n",
            "I spear go ithera'vingt!\n",
            "\n",
            "Crincle to prig ad, by from trir, with my and last it be compres weit of rair\n",
            "gace, an thich did, well deed, i\n"
          ]
        }
      ]
    },
    {
      "cell_type": "code",
      "source": [],
      "metadata": {
        "id": "yxouKiHYLo9U"
      },
      "execution_count": null,
      "outputs": []
    }
  ]
}